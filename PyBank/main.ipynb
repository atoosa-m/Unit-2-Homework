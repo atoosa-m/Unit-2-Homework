{
 "cells": [
  {
   "cell_type": "code",
   "execution_count": 190,
   "id": "008ba70c-3f4a-403c-8786-b8a25e20c45b",
   "metadata": {},
   "outputs": [
    {
     "data": {
      "text/plain": [
       "_io.TextIOWrapper"
      ]
     },
     "execution_count": 190,
     "metadata": {},
     "output_type": "execute_result"
    }
   ],
   "source": [
    "import csv\n",
    "data = open('budget_data.csv')\n",
    "\n",
    "type(data)"
   ]
  },
  {
   "cell_type": "code",
   "execution_count": 191,
   "id": "1af218cc-7beb-4c47-afd0-49ae9c1a6f42",
   "metadata": {},
   "outputs": [],
   "source": [
    "csvreader = csv.reader(data)"
   ]
  },
  {
   "cell_type": "code",
   "execution_count": 192,
   "id": "4b0b0f4d-51b0-4566-8669-8ea3ad38281b",
   "metadata": {},
   "outputs": [
    {
     "data": {
      "text/plain": [
       "['Date', 'Profit/Losses']"
      ]
     },
     "execution_count": 192,
     "metadata": {},
     "output_type": "execute_result"
    }
   ],
   "source": [
    "header = []\n",
    "header = next(csvreader)\n",
    "header"
   ]
  },
  {
   "cell_type": "code",
   "execution_count": 193,
   "id": "6d99b8ef-2b5f-4982-8a4f-662f3554328c",
   "metadata": {},
   "outputs": [],
   "source": [
    "rows = []\n",
    "for row in csvreader:\n",
    "        rows.append(row)"
   ]
  },
  {
   "cell_type": "code",
   "execution_count": 194,
   "id": "7c35c4c5-58b3-4395-a356-87ed9810e572",
   "metadata": {},
   "outputs": [
    {
     "name": "stdout",
     "output_type": "stream",
     "text": [
      "Total number of months :  86\n",
      "total profit and loss: $ 38382578\n"
     ]
    }
   ],
   "source": [
    "length = len(rows)\n",
    "print('Total number of months : ', length)\n",
    "profit_loss = []\n",
    "i = 0\n",
    "total = 0\n",
    "while i < length:\n",
    "    #print (rows[i][1])\n",
    "    profit_loss.append(int(rows[i][1]))\n",
    "    total = total + int(rows[i][1])\n",
    "    i += 1 \n",
    "#print (profit_loss)\n",
    "print ('total profit and loss: $', total)   "
   ]
  },
  {
   "cell_type": "code",
   "execution_count": 195,
   "id": "d72a3f1d-5459-4c6e-a655-da3829ef7f4a",
   "metadata": {},
   "outputs": [
    {
     "name": "stdout",
     "output_type": "stream",
     "text": [
      "The average of the changes in Profit/Losses : $ -2315.12\n"
     ]
    }
   ],
   "source": [
    "j = 0\n",
    "change = []\n",
    "total_change = 0\n",
    "while j < length-1:\n",
    "    change.append(profit_loss[j+1]-profit_loss[j])\n",
    "    total_change += change[j]\n",
    "    #print (total_change)\n",
    "    average_change = (total_change)/(len(change))\n",
    "    #print (j)\n",
    "    j += 1\n",
    "#print (len(change))\n",
    "#print (change)\n",
    "print ('The average of the changes in Profit/Losses : $' ,round(average_change,2))"
   ]
  },
  {
   "cell_type": "code",
   "execution_count": 196,
   "id": "c3672149-3f2b-40e5-a8a0-a9197ff09435",
   "metadata": {},
   "outputs": [
    {
     "name": "stdout",
     "output_type": "stream",
     "text": [
      "The greatest decrease in losses is : -2196167\n",
      "The greatest increase in profits is: 1926159\n",
      "Date of the greatest decrease in losses: Sep-2013\n",
      "Date of the greatest increase in profits: Feb-2012\n"
     ]
    }
   ],
   "source": [
    "k = 0\n",
    "minimum_change = 0\n",
    "maximum_change = 0\n",
    "minimum_index = 0\n",
    "maximum_index = 0\n",
    "while k < len(change):\n",
    "    if minimum_change == 0:\n",
    "        minimum_change = change[k]\n",
    "    elif change[k] < minimum_change:\n",
    "        minimum_change = change[k]\n",
    "        minimum_index = k\n",
    "    elif change[k] > maximum_change:\n",
    "        maximum_change = change[k]\n",
    "        maximum_index = k\n",
    "    k += 1   \n",
    "print ('The greatest decrease in losses is :', minimum_change)\n",
    "print ('The greatest increase in profits is:', maximum_change)\n",
    "\n",
    "print('Date of the greatest decrease in losses:', rows[(minimum_index+1)][0]) \n",
    "print('Date of the greatest increase in profits:', rows[(maximum_index+1)][0]) "
   ]
  },
  {
   "cell_type": "code",
   "execution_count": null,
   "id": "aca69f35-519b-4a55-b834-b9fa775e2a74",
   "metadata": {},
   "outputs": [],
   "source": []
  },
  {
   "cell_type": "code",
   "execution_count": null,
   "id": "491f62eb-19d3-4b76-bc38-edda171d6fef",
   "metadata": {},
   "outputs": [],
   "source": []
  }
 ],
 "metadata": {
  "kernelspec": {
   "display_name": "Python 3 (ipykernel)",
   "language": "python",
   "name": "python3"
  },
  "language_info": {
   "codemirror_mode": {
    "name": "ipython",
    "version": 3
   },
   "file_extension": ".py",
   "mimetype": "text/x-python",
   "name": "python",
   "nbconvert_exporter": "python",
   "pygments_lexer": "ipython3",
   "version": "3.8.8"
  }
 },
 "nbformat": 4,
 "nbformat_minor": 5
}
